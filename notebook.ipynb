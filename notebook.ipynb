{
 "cells": [
  {
   "cell_type": "code",
   "execution_count": 1,
   "metadata": {
    "_cell_guid": "b1076dfc-b9ad-4769-8c92-a6c4dae69d19",
    "_uuid": "8f2839f25d086af736a60e9eeb907d3b93b6e0e5"
   },
   "outputs": [
    {
     "name": "stdout",
     "output_type": "stream",
     "text": [
      "['train', 'sample_submission.csv']\n"
     ]
    }
   ],
   "source": [
    "# This Python 3 environment comes with many helpful analytics libraries installed\n",
    "# It is defined by the kaggle/python docker image: https://github.com/kaggle/docker-python\n",
    "# For example, here's several helpful packages to load in \n",
    "\n",
    "import numpy as np # linear algebra\n",
    "import pandas as pd # data processing, CSV file I/O (e.g. pd.read_csv)\n",
    "\n",
    "# Input data files are available in the \"../input/\" directory.\n",
    "# For example, running this (by clicking run or pressing Shift+Enter) will list the files in the input directory\n",
    "\n",
    "import os\n",
    "print(os.listdir(\"../input\"))\n",
    "\n",
    "# Any results you write to the current directory are saved as output."
   ]
  },
  {
   "cell_type": "code",
   "execution_count": 2,
   "metadata": {
    "_uuid": "41010fcec14f53d0a22944f859e63cef264262b6",
    "scrolled": false
   },
   "outputs": [
    {
     "data": {
      "text/plain": [
       "['testing_list.txt', 'audio', 'validation_list.txt', 'LICENSE', 'README.md']"
      ]
     },
     "execution_count": 2,
     "metadata": {},
     "output_type": "execute_result"
    }
   ],
   "source": [
    "os.listdir(\"../input/train\")"
   ]
  },
  {
   "cell_type": "code",
   "execution_count": 3,
   "metadata": {
    "_uuid": "c7113855b9fa59dc439d5d9b60e9ae172156dfca",
    "collapsed": true
   },
   "outputs": [],
   "source": [
    "test_list=pd.read_csv(\"../input/train/testing_list.txt\",sep=\" \", header=None)\n",
    "val_list=pd.read_csv(\"../input/train/validation_list.txt\",sep=\" \", header=None)"
   ]
  },
  {
   "cell_type": "code",
   "execution_count": 4,
   "metadata": {
    "_uuid": "134831a4f416612f4ca06c2eddae74c91c4dba74"
   },
   "outputs": [
    {
     "data": {
      "text/plain": [
       "(6798, 6835)"
      ]
     },
     "execution_count": 4,
     "metadata": {},
     "output_type": "execute_result"
    }
   ],
   "source": [
    "len(val_list),len(test_list)"
   ]
  },
  {
   "cell_type": "code",
   "execution_count": 5,
   "metadata": {
    "_cell_guid": "79c7e3d0-c299-4dcb-8224-4455121ee9b0",
    "_uuid": "d629ff2d2480ee46fbb7e2d37f6b5fab8052498a"
   },
   "outputs": [
    {
     "name": "stderr",
     "output_type": "stream",
     "text": [
      "/opt/conda/lib/python3.6/site-packages/h5py/__init__.py:36: FutureWarning: Conversion of the second argument of issubdtype from `float` to `np.floating` is deprecated. In future, it will be treated as `np.float64 == np.dtype(float).type`.\n",
      "  from ._conv import register_converters as _register_converters\n",
      "Using TensorFlow backend.\n"
     ]
    }
   ],
   "source": [
    "from scipy.fftpack import fft\n",
    "from scipy.io import wavfile\n",
    "from scipy import signal\n",
    "from glob import glob\n",
    "import re\n",
    "import gc\n",
    "from scipy.io import wavfile\n",
    "import librosa\n",
    "import IPython.display as ipd\n",
    "from keras import optimizers, losses, activations, models\n",
    "from keras.layers import Convolution2D, Dense, Input, Flatten, Dropout, MaxPooling2D, BatchNormalization\n",
    "from sklearn.model_selection import train_test_split\n",
    "import keras"
   ]
  },
  {
   "cell_type": "code",
   "execution_count": 6,
   "metadata": {
    "_uuid": "517b80b397daf61c5c8b025f27a89d16cf37d564",
    "collapsed": true
   },
   "outputs": [],
   "source": [
    "train_data_path = \"../input/train/audio\"\n",
    "#test_data_path = \"../input/test/audio\""
   ]
  },
  {
   "cell_type": "code",
   "execution_count": 7,
   "metadata": {
    "_uuid": "d745684c22c55a6f0a68f05ec8a01702b44538c5",
    "collapsed": true
   },
   "outputs": [],
   "source": [
    "legal_labels = 'yes no up down left right on off stop go silence unknown'.split()\n",
    "def list_wavs_fname(dirpath, ext='wav'):\n",
    "    print(dirpath)\n",
    "    fpaths = glob(os.path.join(dirpath, r'*/*' + ext))\n",
    "    pat = r'.+/(\\w+)/\\w+\\.' + ext + '$'\n",
    "    labels = []\n",
    "    for fpath in fpaths:\n",
    "        r = re.match(pat, fpath)\n",
    "        if r:\n",
    "            labels.append(r.group(1))\n",
    "    pat = r'.+/(\\w+\\.' + ext + ')$'\n",
    "    fnames = []\n",
    "    for fpath in fpaths:\n",
    "        r = re.match(pat, fpath)\n",
    "        if r:\n",
    "            fnames.append(r.group(1))\n",
    "    return labels, fnames"
   ]
  },
  {
   "cell_type": "code",
   "execution_count": 8,
   "metadata": {
    "_uuid": "66405b0e56dc18f2e9269a156aa72c3dcee45c06"
   },
   "outputs": [
    {
     "name": "stdout",
     "output_type": "stream",
     "text": [
      "../input/train/audio\n"
     ]
    }
   ],
   "source": [
    "labels, fnames = list_wavs_fname(train_data_path)"
   ]
  },
  {
   "cell_type": "code",
   "execution_count": 9,
   "metadata": {
    "_uuid": "661634122206d04fab0a7c36c18c3e247d583c7a",
    "scrolled": true
   },
   "outputs": [
    {
     "data": {
      "text/plain": [
       "(64727, 64727)"
      ]
     },
     "execution_count": 9,
     "metadata": {},
     "output_type": "execute_result"
    }
   ],
   "source": [
    "len(labels),len(fnames)"
   ]
  },
  {
   "cell_type": "code",
   "execution_count": 10,
   "metadata": {
    "_uuid": "419d0cc2cab7d02f0daa63cf8abd8b9df926e2c9"
   },
   "outputs": [
    {
     "data": {
      "text/plain": [
       "6798"
      ]
     },
     "execution_count": 10,
     "metadata": {},
     "output_type": "execute_result"
    }
   ],
   "source": [
    "val=[]\n",
    "for i in range(len(val_list)):\n",
    "    val.append(val_list[0][i])\n",
    "len(val)"
   ]
  },
  {
   "cell_type": "code",
   "execution_count": 11,
   "metadata": {
    "_uuid": "9662cb9242a70c4c316c0e8a77f7b8434358146f"
   },
   "outputs": [
    {
     "data": {
      "text/plain": [
       "6835"
      ]
     },
     "execution_count": 11,
     "metadata": {},
     "output_type": "execute_result"
    }
   ],
   "source": [
    "test=[]\n",
    "for i in range(len(test_list)):\n",
    "    test.append(test_list[0][i])\n",
    "len(test)"
   ]
  },
  {
   "cell_type": "code",
   "execution_count": 12,
   "metadata": {
    "_uuid": "c759f537079278f246aa6a2066edc91902ea645a",
    "collapsed": true
   },
   "outputs": [],
   "source": [
    "L=16000\n",
    "def pad_audio(samples):\n",
    "    if len(samples) >= L: return samples\n",
    "    else: return np.pad(samples, pad_width=(L - len(samples), 0), mode='constant', constant_values=(0, 0))\n",
    "\n",
    "def chop_audio(samples, L=16000, num=20):\n",
    "    for i in range(num):\n",
    "        beg = np.random.randint(0, len(samples) - L)\n",
    "        yield samples[beg: beg + L]\n",
    "\n",
    "def label_transform(labels):\n",
    "    nlabels = []\n",
    "    for label in labels:\n",
    "        if label == '_background_noise_':\n",
    "            nlabels.append('silence')\n",
    "        elif label not in legal_labels:\n",
    "            nlabels.append('unknown')\n",
    "        else:\n",
    "            nlabels.append(label)\n",
    "    return pd.get_dummies(pd.Series(nlabels))"
   ]
  },
  {
   "cell_type": "code",
   "execution_count": 13,
   "metadata": {
    "_uuid": "89939e9dd2732d843b5a0698bd981d91fe3fbd80",
    "scrolled": true
   },
   "outputs": [
    {
     "data": {
      "text/plain": [
       "array(['_background_noise_', 'bed', 'bird', 'cat', 'dog', 'down', 'eight',\n",
       "       'five', 'four', 'go', 'happy', 'house', 'left', 'marvin', 'nine',\n",
       "       'no', 'off', 'on', 'one', 'right', 'seven', 'sheila', 'six',\n",
       "       'stop', 'three', 'tree', 'two', 'up', 'wow', 'yes', 'zero'],\n",
       "      dtype='<U18')"
      ]
     },
     "execution_count": 13,
     "metadata": {},
     "output_type": "execute_result"
    }
   ],
   "source": [
    "np.unique(labels)"
   ]
  },
  {
   "cell_type": "code",
   "execution_count": 14,
   "metadata": {
    "_uuid": "a8b9efe37c39a2e51a0dce15ec8df431ef227057"
   },
   "outputs": [
    {
     "data": {
      "text/plain": [
       "True"
      ]
     },
     "execution_count": 14,
     "metadata": {},
     "output_type": "execute_result"
    }
   ],
   "source": [
    "labels[0]+\"/\"+fnames[0] in test"
   ]
  },
  {
   "cell_type": "code",
   "execution_count": 15,
   "metadata": {
    "_uuid": "bc4e7eaadfb53ac24f68d2d4357c609d8be7d5c3",
    "scrolled": false
   },
   "outputs": [
    {
     "name": "stderr",
     "output_type": "stream",
     "text": [
      "/opt/conda/lib/python3.6/site-packages/scipy/io/wavfile.py:273: WavFileWarning: Chunk (non-data) not understood, skipping it.\n",
      "  WavFileWarning)\n"
     ]
    }
   ],
   "source": [
    "x=[]\n",
    "y=[]\n",
    "\n",
    "for label, fname in zip(labels, fnames):\n",
    "    #print(label,fname)\n",
    "    sample_rate, samples = wavfile.read(os.path.join(train_data_path, label, fname))\n",
    "    samples= pad_audio(samples)\n",
    "    if len(samples) > 16000:\n",
    "        n_samples = chop_audio(samples)\n",
    "    else :\n",
    "        n_samples = [samples]\n",
    "    for samples in n_samples:\n",
    "        samples=np.asarray(samples).astype('float')\n",
    "        S = librosa.feature.melspectrogram(samples, sr=sample_rate, n_mels=128)\n",
    "        log_S = librosa.power_to_db(S, ref=np.max)\n",
    "        mfcc = librosa.feature.mfcc(S=log_S, n_mfcc=13)\n",
    "        x.append(mfcc)\n",
    "        y.append(label)\n",
    "        \n",
    "     "
   ]
  },
  {
   "cell_type": "code",
   "execution_count": 16,
   "metadata": {
    "_uuid": "c92b5c8077dc6a7428ba278aee98879577343a5f"
   },
   "outputs": [
    {
     "data": {
      "text/plain": [
       "(64841, 64841)"
      ]
     },
     "execution_count": 16,
     "metadata": {},
     "output_type": "execute_result"
    }
   ],
   "source": [
    "len(x),len(y)"
   ]
  },
  {
   "cell_type": "code",
   "execution_count": 17,
   "metadata": {
    "_uuid": "875bda7f1f328f12469dc99cac97909c067663cf",
    "collapsed": true
   },
   "outputs": [],
   "source": [
    "y_ = label_transform(y)"
   ]
  },
  {
   "cell_type": "code",
   "execution_count": 18,
   "metadata": {
    "_uuid": "5ac9962f442d00ad613f879b25e6e6e3d9245bb2",
    "scrolled": false
   },
   "outputs": [
    {
     "data": {
      "text/plain": [
       "(64841, 12)"
      ]
     },
     "execution_count": 18,
     "metadata": {},
     "output_type": "execute_result"
    }
   ],
   "source": [
    "y_.shape"
   ]
  },
  {
   "cell_type": "code",
   "execution_count": 23,
   "metadata": {
    "_uuid": "842d2c2cd69bde6476a39f00cbf8c61a51da532f"
   },
   "outputs": [],
   "source": [
    "y_=y_.values"
   ]
  },
  {
   "cell_type": "code",
   "execution_count": 24,
   "metadata": {
    "_uuid": "1e9289fbb18d6376ae22a69ba19150f95123b1cd"
   },
   "outputs": [
    {
     "data": {
      "text/plain": [
       "array([0, 0, 0, 1, 0, 0, 0, 0, 0, 0, 0, 0], dtype=uint8)"
      ]
     },
     "execution_count": 24,
     "metadata": {},
     "output_type": "execute_result"
    }
   ],
   "source": [
    "y_[0]"
   ]
  },
  {
   "cell_type": "code",
   "execution_count": 26,
   "metadata": {
    "_uuid": "14fde5f735a51eaffd9e0e9aecfb099923ba5228"
   },
   "outputs": [],
   "source": [
    "y_train = []\n",
    "x_train = []\n",
    "x_val=[]\n",
    "y_val=[]\n",
    "x_test=[]\n",
    "y_test=[]\n",
    "for i in range(len(labels)):\n",
    "    if(labels[i]+'/'+fnames[i] in val):\n",
    "        y_val.append(y_[i])\n",
    "        x_val.append(x[i])\n",
    "    elif(labels[i]+'/'+fnames[i] in test):\n",
    "        y_test.append(y_[i])\n",
    "        x_test.append(x[i])\n",
    "    else:\n",
    "        y_train.append(y_[i])\n",
    "        x_train.append(x[i])\n",
    "    "
   ]
  },
  {
   "cell_type": "code",
   "execution_count": null,
   "metadata": {
    "_uuid": "a48ea80cb9456c8cae055b26209ac62408f9b945",
    "collapsed": true
   },
   "outputs": [],
   "source": []
  },
  {
   "cell_type": "code",
   "execution_count": 27,
   "metadata": {
    "_uuid": "8b13c93a39475d67bdcf56b834ba87bd31f0a8fd"
   },
   "outputs": [
    {
     "name": "stdout",
     "output_type": "stream",
     "text": [
      "(51094, 13, 32) (6835, 13, 32) (6798, 13, 32)\n"
     ]
    }
   ],
   "source": [
    "x_train = np.array(x_train)\n",
    "x_val = np.array(x_val)\n",
    "x_test = np.array(x_test)\n",
    "print(x_train.shape,x_test.shape,x_val.shape)"
   ]
  },
  {
   "cell_type": "code",
   "execution_count": 28,
   "metadata": {
    "_uuid": "6d03d9f71d4d51eee422a1ae278a25d938109a32"
   },
   "outputs": [
    {
     "name": "stdout",
     "output_type": "stream",
     "text": [
      "(51094, 13, 32, 1) (6835, 13, 32, 1) (6798, 13, 32, 1)\n"
     ]
    }
   ],
   "source": [
    "x_train=x_train.reshape(tuple(list(x_train.shape) + [1]))\n",
    "x_test=x_test.reshape(tuple(list(x_test.shape) + [1]))\n",
    "x_val=x_val.reshape(tuple(list(x_val.shape) + [1]))\n",
    "print(x_train.shape,x_test.shape,x_val.shape)"
   ]
  },
  {
   "cell_type": "code",
   "execution_count": 30,
   "metadata": {
    "_uuid": "d56ca7067cb2222a72a63ab4c96ce3ed4dc26405"
   },
   "outputs": [
    {
     "name": "stdout",
     "output_type": "stream",
     "text": [
      "(51094, 12) (6835, 12) (6798, 12)\n"
     ]
    }
   ],
   "source": [
    "y_train = np.array(y_train)\n",
    "y_test = np.array(y_test)\n",
    "y_val = np.array(y_val)\n",
    "print(y_train.shape,y_test.shape,y_val.shape)"
   ]
  },
  {
   "cell_type": "code",
   "execution_count": null,
   "metadata": {
    "_uuid": "87ce8f5946fc5cb4221a1e35b23e0568431ad16d",
    "collapsed": true
   },
   "outputs": [],
   "source": [
    "# y_train = label_transform(y_train)\n",
    "# y_test = label_transform(y_test)\n",
    "# y_val = label_transform(y_val)"
   ]
  },
  {
   "cell_type": "code",
   "execution_count": null,
   "metadata": {
    "_uuid": "f946cf8b6faebea5963aac76de07778f59d27fc9",
    "collapsed": true
   },
   "outputs": [],
   "source": [
    "# label_index = y_train.columns.values\n",
    "# y_train = y_train.values\n",
    "# y_train = np.array(y_train)\n",
    "# y_test = y_test.values\n",
    "# y_test = np.array(y_test)\n",
    "# y_val = y_val.values\n",
    "# y_val = np.array(y_val)\n",
    "# print(y_train.shape,y_test.shape,y_val.shape)"
   ]
  },
  {
   "cell_type": "code",
   "execution_count": 31,
   "metadata": {
    "_uuid": "f99a94f16647a274273852aa3168a9d0e396194d",
    "collapsed": true
   },
   "outputs": [],
   "source": [
    "from keras.models import Model\n",
    "from keras.layers import Dense,Input,Conv2D,MaxPooling2D,GlobalAveragePooling2D,Activation,Dropout,Reshape,concatenate,BatchNormalization\n",
    "from keras.losses import binary_crossentropy,categorical_crossentropy\n",
    "from keras.optimizers import Adam,SGD,RMSprop\n",
    "from keras.preprocessing.image import ImageDataGenerator\n",
    "from keras import regularizers\n",
    "from keras import backend as K "
   ]
  },
  {
   "cell_type": "code",
   "execution_count": 32,
   "metadata": {
    "_uuid": "96854186e431933806cec7934638c421da27a8ab",
    "collapsed": true
   },
   "outputs": [],
   "source": [
    "def make_model():\n",
    "    inputs=Input(shape=(13,32,1))\n",
    "    l=inputs\n",
    "    l=Conv2D(filters=8,kernel_size=(3,3),strides=(1,1),padding='same')(l)\n",
    "    l=BatchNormalization()(l)\n",
    "    l=Activation('relu')(l)\n",
    "    l=Conv2D(filters=8,kernel_size=(3,3),strides=(1,1),padding='same')(l)\n",
    "    l=BatchNormalization()(l)\n",
    "    l=Activation('relu')(l)\n",
    "    l=MaxPooling2D(pool_size=(2,2))(l)\n",
    "    \n",
    "    l=Conv2D(filters=16,kernel_size=(3,3),strides=(1,1),padding='same')(l)\n",
    "    l=BatchNormalization()(l)\n",
    "    l=Activation('relu')(l)\n",
    "    l=Conv2D(filters=16,kernel_size=(3,3),strides=(1,1),padding='same')(l)\n",
    "    l=BatchNormalization()(l)\n",
    "    l=Activation('relu')(l)\n",
    "    l=MaxPooling2D(pool_size=(2,2))(l)\n",
    "    l=Conv2D(filters=32,kernel_size=(3,3),strides=(1,1),padding='same')(l)\n",
    "    l=BatchNormalization()(l)\n",
    "    l=Activation('relu')(l)\n",
    "    l=Conv2D(filters=48,kernel_size=(3,3),strides=(1,1),padding='same')(l)\n",
    "    l=BatchNormalization()(l)\n",
    "    l=Activation('relu')(l)\n",
    "    l=MaxPooling2D(pool_size=(2,2))(l)\n",
    "    \n",
    "    l=GlobalAveragePooling2D()(l)\n",
    "    l=Dropout(0.4)(l)\n",
    "    l=Dense(64,activation='relu')(l)\n",
    "    l=Dropout(0.4)(l)\n",
    "    l=Dense(64,activation='relu')(l)\n",
    "    l=Dense(12,activation='softmax')(l)\n",
    "    outputs=l\n",
    "    return inputs,outputs"
   ]
  },
  {
   "cell_type": "code",
   "execution_count": 33,
   "metadata": {
    "_uuid": "d1fcdc60c849795ba4b7137ea03367ab23e8424b"
   },
   "outputs": [
    {
     "name": "stdout",
     "output_type": "stream",
     "text": [
      "_________________________________________________________________\n",
      "Layer (type)                 Output Shape              Param #   \n",
      "=================================================================\n",
      "input_1 (InputLayer)         (None, 13, 32, 1)         0         \n",
      "_________________________________________________________________\n",
      "conv2d_1 (Conv2D)            (None, 13, 32, 8)         80        \n",
      "_________________________________________________________________\n",
      "batch_normalization_1 (Batch (None, 13, 32, 8)         32        \n",
      "_________________________________________________________________\n",
      "activation_1 (Activation)    (None, 13, 32, 8)         0         \n",
      "_________________________________________________________________\n",
      "conv2d_2 (Conv2D)            (None, 13, 32, 8)         584       \n",
      "_________________________________________________________________\n",
      "batch_normalization_2 (Batch (None, 13, 32, 8)         32        \n",
      "_________________________________________________________________\n",
      "activation_2 (Activation)    (None, 13, 32, 8)         0         \n",
      "_________________________________________________________________\n",
      "max_pooling2d_1 (MaxPooling2 (None, 6, 16, 8)          0         \n",
      "_________________________________________________________________\n",
      "conv2d_3 (Conv2D)            (None, 6, 16, 16)         1168      \n",
      "_________________________________________________________________\n",
      "batch_normalization_3 (Batch (None, 6, 16, 16)         64        \n",
      "_________________________________________________________________\n",
      "activation_3 (Activation)    (None, 6, 16, 16)         0         \n",
      "_________________________________________________________________\n",
      "conv2d_4 (Conv2D)            (None, 6, 16, 16)         2320      \n",
      "_________________________________________________________________\n",
      "batch_normalization_4 (Batch (None, 6, 16, 16)         64        \n",
      "_________________________________________________________________\n",
      "activation_4 (Activation)    (None, 6, 16, 16)         0         \n",
      "_________________________________________________________________\n",
      "max_pooling2d_2 (MaxPooling2 (None, 3, 8, 16)          0         \n",
      "_________________________________________________________________\n",
      "conv2d_5 (Conv2D)            (None, 3, 8, 32)          4640      \n",
      "_________________________________________________________________\n",
      "batch_normalization_5 (Batch (None, 3, 8, 32)          128       \n",
      "_________________________________________________________________\n",
      "activation_5 (Activation)    (None, 3, 8, 32)          0         \n",
      "_________________________________________________________________\n",
      "conv2d_6 (Conv2D)            (None, 3, 8, 48)          13872     \n",
      "_________________________________________________________________\n",
      "batch_normalization_6 (Batch (None, 3, 8, 48)          192       \n",
      "_________________________________________________________________\n",
      "activation_6 (Activation)    (None, 3, 8, 48)          0         \n",
      "_________________________________________________________________\n",
      "max_pooling2d_3 (MaxPooling2 (None, 1, 4, 48)          0         \n",
      "_________________________________________________________________\n",
      "global_average_pooling2d_1 ( (None, 48)                0         \n",
      "_________________________________________________________________\n",
      "dropout_1 (Dropout)          (None, 48)                0         \n",
      "_________________________________________________________________\n",
      "dense_1 (Dense)              (None, 64)                3136      \n",
      "_________________________________________________________________\n",
      "dropout_2 (Dropout)          (None, 64)                0         \n",
      "_________________________________________________________________\n",
      "dense_2 (Dense)              (None, 64)                4160      \n",
      "_________________________________________________________________\n",
      "dense_3 (Dense)              (None, 12)                780       \n",
      "=================================================================\n",
      "Total params: 31,252\n",
      "Trainable params: 30,996\n",
      "Non-trainable params: 256\n",
      "_________________________________________________________________\n"
     ]
    }
   ],
   "source": [
    "inputs,outputs=make_model()\n",
    "model=Model(inputs=inputs,outputs=outputs)\n",
    "model.summary()"
   ]
  },
  {
   "cell_type": "code",
   "execution_count": 34,
   "metadata": {
    "_uuid": "a390e5c15b291ecb8b27e892fbc823fd8e4675b6",
    "collapsed": true
   },
   "outputs": [],
   "source": [
    "optim=Adam(1e-4)#optim=SGD(1e-3)\n",
    "loss=categorical_crossentropy\n",
    "model.compile(optim,loss,metrics=['accuracy'])"
   ]
  },
  {
   "cell_type": "code",
   "execution_count": 35,
   "metadata": {
    "_uuid": "24f1724bed50fb500d8c476613a964cd31b9915e"
   },
   "outputs": [
    {
     "name": "stdout",
     "output_type": "stream",
     "text": [
      "Train on 51094 samples, validate on 6798 samples\n",
      "Epoch 1/10\n",
      "51094/51094 [==============================] - 31s 611us/step - loss: 1.5265 - acc: 0.6119 - val_loss: 1.3026 - val_acc: 0.6196\n",
      "Epoch 2/10\n",
      "51094/51094 [==============================] - 29s 570us/step - loss: 1.2505 - acc: 0.6386 - val_loss: 1.0992 - val_acc: 0.6534\n",
      "Epoch 3/10\n",
      "51094/51094 [==============================] - 29s 571us/step - loss: 1.0687 - acc: 0.6658 - val_loss: 0.8698 - val_acc: 0.7127\n",
      "Epoch 4/10\n",
      "51094/51094 [==============================] - 29s 567us/step - loss: 0.8985 - acc: 0.7041 - val_loss: 0.6872 - val_acc: 0.7614\n",
      "Epoch 5/10\n",
      "51094/51094 [==============================] - 29s 570us/step - loss: 0.7613 - acc: 0.7437 - val_loss: 0.5851 - val_acc: 0.8191\n",
      "Epoch 6/10\n",
      "51094/51094 [==============================] - 29s 571us/step - loss: 0.6688 - acc: 0.7771 - val_loss: 0.5179 - val_acc: 0.8350\n",
      "Epoch 7/10\n",
      "51094/51094 [==============================] - 29s 568us/step - loss: 0.6027 - acc: 0.7994 - val_loss: 0.4811 - val_acc: 0.8472\n",
      "Epoch 8/10\n",
      "51094/51094 [==============================] - 29s 569us/step - loss: 0.5520 - acc: 0.8160 - val_loss: 0.4402 - val_acc: 0.8648\n",
      "Epoch 9/10\n",
      "51094/51094 [==============================] - 29s 569us/step - loss: 0.5230 - acc: 0.8244 - val_loss: 0.4124 - val_acc: 0.8686\n",
      "Epoch 10/10\n",
      "51094/51094 [==============================] - 29s 568us/step - loss: 0.4932 - acc: 0.8399 - val_loss: 0.3962 - val_acc: 0.8770\n"
     ]
    },
    {
     "data": {
      "text/plain": [
       "<keras.callbacks.History at 0x7ff5e5b38dd8>"
      ]
     },
     "execution_count": 35,
     "metadata": {},
     "output_type": "execute_result"
    }
   ],
   "source": [
    "model.fit(x_train,y_train,validation_data=(x_val,y_val),epochs=10,batch_size=32,verbose=1)"
   ]
  },
  {
   "cell_type": "code",
   "execution_count": 36,
   "metadata": {
    "_uuid": "093d4b422dac2852e53608504abb45bef7320323",
    "scrolled": false
   },
   "outputs": [
    {
     "name": "stdout",
     "output_type": "stream",
     "text": [
      "Train on 51094 samples, validate on 6798 samples\n",
      "Epoch 1/10\n",
      "51094/51094 [==============================] - 29s 566us/step - loss: 0.4638 - acc: 0.8478 - val_loss: 0.3802 - val_acc: 0.8842\n",
      "Epoch 2/10\n",
      "51094/51094 [==============================] - 29s 567us/step - loss: 0.4423 - acc: 0.8567 - val_loss: 0.3971 - val_acc: 0.8739\n",
      "Epoch 3/10\n",
      "51094/51094 [==============================] - 29s 568us/step - loss: 0.4224 - acc: 0.8642 - val_loss: 0.3399 - val_acc: 0.8960\n",
      "Epoch 4/10\n",
      "51094/51094 [==============================] - 29s 568us/step - loss: 0.4034 - acc: 0.8713 - val_loss: 0.3534 - val_acc: 0.8926\n",
      "Epoch 5/10\n",
      "51094/51094 [==============================] - 29s 570us/step - loss: 0.3883 - acc: 0.8765 - val_loss: 0.3264 - val_acc: 0.8938\n",
      "Epoch 6/10\n",
      "51094/51094 [==============================] - 29s 568us/step - loss: 0.3712 - acc: 0.8824 - val_loss: 0.3249 - val_acc: 0.8978\n",
      "Epoch 7/10\n",
      "51094/51094 [==============================] - 29s 569us/step - loss: 0.3593 - acc: 0.8857 - val_loss: 0.3079 - val_acc: 0.9041\n",
      "Epoch 8/10\n",
      "51094/51094 [==============================] - 29s 571us/step - loss: 0.3465 - acc: 0.8902 - val_loss: 0.3018 - val_acc: 0.9036\n",
      "Epoch 9/10\n",
      "51094/51094 [==============================] - 29s 569us/step - loss: 0.3380 - acc: 0.8940 - val_loss: 0.2998 - val_acc: 0.9076\n",
      "Epoch 10/10\n",
      "51094/51094 [==============================] - 29s 568us/step - loss: 0.3268 - acc: 0.8973 - val_loss: 0.2957 - val_acc: 0.9114\n"
     ]
    },
    {
     "data": {
      "text/plain": [
       "<keras.callbacks.History at 0x7ff5e5b38ef0>"
      ]
     },
     "execution_count": 36,
     "metadata": {},
     "output_type": "execute_result"
    }
   ],
   "source": [
    "model.fit(x_train,y_train,validation_data=(x_val,y_val),epochs=10,batch_size=32,verbose=1)"
   ]
  },
  {
   "cell_type": "code",
   "execution_count": 37,
   "metadata": {
    "_uuid": "8cd4057df9d01fbb41001d63ee6b3cddf4f6d4fa"
   },
   "outputs": [
    {
     "name": "stdout",
     "output_type": "stream",
     "text": [
      "Train on 51094 samples, validate on 6798 samples\n",
      "Epoch 1/10\n",
      "51094/51094 [==============================] - 29s 569us/step - loss: 0.3195 - acc: 0.8993 - val_loss: 0.2862 - val_acc: 0.9112\n",
      "Epoch 2/10\n",
      "51094/51094 [==============================] - 29s 568us/step - loss: 0.3071 - acc: 0.9028 - val_loss: 0.2891 - val_acc: 0.9100\n",
      "Epoch 3/10\n",
      "51094/51094 [==============================] - 29s 567us/step - loss: 0.3021 - acc: 0.9054 - val_loss: 0.2771 - val_acc: 0.9154\n",
      "Epoch 4/10\n",
      "51094/51094 [==============================] - 29s 566us/step - loss: 0.2935 - acc: 0.9092 - val_loss: 0.2824 - val_acc: 0.9110\n",
      "Epoch 5/10\n",
      "51094/51094 [==============================] - 29s 565us/step - loss: 0.2853 - acc: 0.9111 - val_loss: 0.2852 - val_acc: 0.9192\n",
      "Epoch 6/10\n",
      "51094/51094 [==============================] - 29s 575us/step - loss: 0.2791 - acc: 0.9133 - val_loss: 0.2669 - val_acc: 0.9200\n",
      "Epoch 7/10\n",
      "51094/51094 [==============================] - 29s 573us/step - loss: 0.2744 - acc: 0.9153 - val_loss: 0.2890 - val_acc: 0.9167\n",
      "Epoch 8/10\n",
      "51094/51094 [==============================] - 29s 569us/step - loss: 0.2642 - acc: 0.9190 - val_loss: 0.2773 - val_acc: 0.9188\n",
      "Epoch 9/10\n",
      "51094/51094 [==============================] - 29s 571us/step - loss: 0.2604 - acc: 0.9201 - val_loss: 0.2601 - val_acc: 0.9235\n",
      "Epoch 10/10\n",
      "51094/51094 [==============================] - 29s 571us/step - loss: 0.2529 - acc: 0.9217 - val_loss: 0.2681 - val_acc: 0.9209\n"
     ]
    },
    {
     "data": {
      "text/plain": [
       "<keras.callbacks.History at 0x7ff61ffe5780>"
      ]
     },
     "execution_count": 37,
     "metadata": {},
     "output_type": "execute_result"
    }
   ],
   "source": [
    "model.fit(x_train,y_train,validation_data=(x_val,y_val),epochs=10,batch_size=32,verbose=1)"
   ]
  },
  {
   "cell_type": "code",
   "execution_count": 38,
   "metadata": {
    "_uuid": "bec477477c1f424881198737f5a57145dfdfb304",
    "collapsed": true
   },
   "outputs": [],
   "source": [
    "K.set_value(model.optimizer.lr,1e-5)"
   ]
  },
  {
   "cell_type": "code",
   "execution_count": 39,
   "metadata": {
    "_uuid": "03b1adf7315a575969b267cfafd8a10038de701a",
    "scrolled": true
   },
   "outputs": [
    {
     "name": "stdout",
     "output_type": "stream",
     "text": [
      "Train on 51094 samples, validate on 6798 samples\n",
      "Epoch 1/10\n",
      "51094/51094 [==============================] - 29s 566us/step - loss: 0.2361 - acc: 0.9274 - val_loss: 0.2454 - val_acc: 0.9269\n",
      "Epoch 2/10\n",
      "51094/51094 [==============================] - 29s 568us/step - loss: 0.2307 - acc: 0.9283 - val_loss: 0.2459 - val_acc: 0.9275\n",
      "Epoch 3/10\n",
      "51094/51094 [==============================] - 29s 569us/step - loss: 0.2288 - acc: 0.9291 - val_loss: 0.2462 - val_acc: 0.9284\n",
      "Epoch 4/10\n",
      "51094/51094 [==============================] - 29s 567us/step - loss: 0.2278 - acc: 0.9305 - val_loss: 0.2472 - val_acc: 0.9282\n",
      "Epoch 5/10\n",
      "51094/51094 [==============================] - 29s 567us/step - loss: 0.2272 - acc: 0.9300 - val_loss: 0.2430 - val_acc: 0.9285\n",
      "Epoch 6/10\n",
      "51094/51094 [==============================] - 29s 568us/step - loss: 0.2267 - acc: 0.9301 - val_loss: 0.2459 - val_acc: 0.9285\n",
      "Epoch 7/10\n",
      "51094/51094 [==============================] - 29s 568us/step - loss: 0.2285 - acc: 0.9295 - val_loss: 0.2424 - val_acc: 0.9294\n",
      "Epoch 8/10\n",
      "51094/51094 [==============================] - 29s 568us/step - loss: 0.2228 - acc: 0.9313 - val_loss: 0.2442 - val_acc: 0.9275\n",
      "Epoch 9/10\n",
      "51094/51094 [==============================] - 29s 566us/step - loss: 0.2230 - acc: 0.9308 - val_loss: 0.2449 - val_acc: 0.9275\n",
      "Epoch 10/10\n",
      "51094/51094 [==============================] - 29s 566us/step - loss: 0.2238 - acc: 0.9315 - val_loss: 0.2456 - val_acc: 0.9276\n"
     ]
    },
    {
     "data": {
      "text/plain": [
       "<keras.callbacks.History at 0x7ff6010d2ba8>"
      ]
     },
     "execution_count": 39,
     "metadata": {},
     "output_type": "execute_result"
    }
   ],
   "source": [
    "model.fit(x_train,y_train,validation_data=(x_val,y_val),epochs=10,batch_size=32,verbose=1)"
   ]
  },
  {
   "cell_type": "code",
   "execution_count": 40,
   "metadata": {
    "_uuid": "f71bbb573e177c8a50c48f2a3cbed0baa76c52da",
    "scrolled": true
   },
   "outputs": [
    {
     "name": "stdout",
     "output_type": "stream",
     "text": [
      "Train on 51094 samples, validate on 6798 samples\n",
      "Epoch 1/10\n",
      "51094/51094 [==============================] - 29s 562us/step - loss: 0.2221 - acc: 0.9318 - val_loss: 0.2439 - val_acc: 0.9291\n",
      "Epoch 2/10\n",
      "51094/51094 [==============================] - 29s 573us/step - loss: 0.2229 - acc: 0.9312 - val_loss: 0.2453 - val_acc: 0.9288\n",
      "Epoch 3/10\n",
      "51094/51094 [==============================] - 29s 568us/step - loss: 0.2239 - acc: 0.9309 - val_loss: 0.2439 - val_acc: 0.9295\n",
      "Epoch 4/10\n",
      "51094/51094 [==============================] - 29s 570us/step - loss: 0.2199 - acc: 0.9325 - val_loss: 0.2449 - val_acc: 0.9294\n",
      "Epoch 5/10\n",
      "51094/51094 [==============================] - 29s 569us/step - loss: 0.2184 - acc: 0.9332 - val_loss: 0.2463 - val_acc: 0.9285\n",
      "Epoch 6/10\n",
      "51094/51094 [==============================] - 29s 568us/step - loss: 0.2188 - acc: 0.9321 - val_loss: 0.2429 - val_acc: 0.9278\n",
      "Epoch 7/10\n",
      "51094/51094 [==============================] - 29s 570us/step - loss: 0.2224 - acc: 0.9312 - val_loss: 0.2442 - val_acc: 0.9287\n",
      "Epoch 8/10\n",
      "51094/51094 [==============================] - 29s 568us/step - loss: 0.2194 - acc: 0.9321 - val_loss: 0.2438 - val_acc: 0.9288\n",
      "Epoch 9/10\n",
      "51094/51094 [==============================] - 29s 566us/step - loss: 0.2194 - acc: 0.9325 - val_loss: 0.2432 - val_acc: 0.9279\n",
      "Epoch 10/10\n",
      "51094/51094 [==============================] - 29s 569us/step - loss: 0.2166 - acc: 0.9333 - val_loss: 0.2427 - val_acc: 0.9298\n"
     ]
    },
    {
     "data": {
      "text/plain": [
       "<keras.callbacks.History at 0x7ff5e5b233c8>"
      ]
     },
     "execution_count": 40,
     "metadata": {},
     "output_type": "execute_result"
    }
   ],
   "source": [
    "model.fit(x_train,y_train,validation_data=(x_val,y_val),epochs=10,batch_size=32,verbose=1)"
   ]
  },
  {
   "cell_type": "code",
   "execution_count": 41,
   "metadata": {
    "_uuid": "7d4474136b274506e9f0d2c73dacfcffab4e8485"
   },
   "outputs": [
    {
     "name": "stdout",
     "output_type": "stream",
     "text": [
      "6835/6835 [==============================] - 1s 109us/step\n"
     ]
    },
    {
     "data": {
      "text/plain": [
       "[0.24254688350371362, 0.9268471105219067]"
      ]
     },
     "execution_count": 41,
     "metadata": {},
     "output_type": "execute_result"
    }
   ],
   "source": [
    "model.evaluate(x_test,y_test)"
   ]
  },
  {
   "cell_type": "code",
   "execution_count": 42,
   "metadata": {
    "_uuid": "5bb06eba1fbbd097ee7f263f8a18fd9489e5745c"
   },
   "outputs": [
    {
     "name": "stdout",
     "output_type": "stream",
     "text": [
      "Train on 51094 samples, validate on 6798 samples\n",
      "Epoch 1/20\n",
      "51094/51094 [==============================] - 29s 561us/step - loss: 0.2142 - acc: 0.9339 - val_loss: 0.2460 - val_acc: 0.9288\n",
      "Epoch 2/20\n",
      "51094/51094 [==============================] - 29s 571us/step - loss: 0.2163 - acc: 0.9332 - val_loss: 0.2450 - val_acc: 0.9289\n",
      "Epoch 3/20\n",
      "51094/51094 [==============================] - 29s 568us/step - loss: 0.2152 - acc: 0.9339 - val_loss: 0.2444 - val_acc: 0.9306\n",
      "Epoch 4/20\n",
      "51094/51094 [==============================] - 29s 567us/step - loss: 0.2146 - acc: 0.9337 - val_loss: 0.2455 - val_acc: 0.9300\n",
      "Epoch 5/20\n",
      "51094/51094 [==============================] - 29s 566us/step - loss: 0.2164 - acc: 0.9337 - val_loss: 0.2428 - val_acc: 0.9291\n",
      "Epoch 6/20\n",
      "51094/51094 [==============================] - 29s 566us/step - loss: 0.2124 - acc: 0.9344 - val_loss: 0.2436 - val_acc: 0.9295\n",
      "Epoch 7/20\n",
      "51094/51094 [==============================] - 29s 567us/step - loss: 0.2120 - acc: 0.9347 - val_loss: 0.2438 - val_acc: 0.9289\n",
      "Epoch 8/20\n",
      "51094/51094 [==============================] - 29s 567us/step - loss: 0.2114 - acc: 0.9346 - val_loss: 0.2433 - val_acc: 0.9285\n",
      "Epoch 9/20\n",
      "51094/51094 [==============================] - 29s 567us/step - loss: 0.2105 - acc: 0.9351 - val_loss: 0.2417 - val_acc: 0.9307\n",
      "Epoch 10/20\n",
      "51094/51094 [==============================] - 29s 569us/step - loss: 0.2135 - acc: 0.9325 - val_loss: 0.2433 - val_acc: 0.9301\n",
      "Epoch 11/20\n",
      "51094/51094 [==============================] - 29s 569us/step - loss: 0.2084 - acc: 0.9360 - val_loss: 0.2455 - val_acc: 0.9295\n",
      "Epoch 12/20\n",
      "51094/51094 [==============================] - 29s 565us/step - loss: 0.2089 - acc: 0.9344 - val_loss: 0.2435 - val_acc: 0.9304\n",
      "Epoch 13/20\n",
      "51094/51094 [==============================] - 29s 572us/step - loss: 0.2090 - acc: 0.9354 - val_loss: 0.2466 - val_acc: 0.9301\n",
      "Epoch 14/20\n",
      "51094/51094 [==============================] - 29s 567us/step - loss: 0.2101 - acc: 0.9358 - val_loss: 0.2432 - val_acc: 0.9303\n",
      "Epoch 15/20\n",
      "51094/51094 [==============================] - 29s 568us/step - loss: 0.2128 - acc: 0.9339 - val_loss: 0.2429 - val_acc: 0.9319\n",
      "Epoch 16/20\n",
      "51094/51094 [==============================] - 29s 565us/step - loss: 0.2113 - acc: 0.9342 - val_loss: 0.2455 - val_acc: 0.9328\n",
      "Epoch 17/20\n",
      "51094/51094 [==============================] - 29s 569us/step - loss: 0.2108 - acc: 0.9347 - val_loss: 0.2438 - val_acc: 0.9310\n",
      "Epoch 18/20\n",
      "51094/51094 [==============================] - 29s 567us/step - loss: 0.2051 - acc: 0.9364 - val_loss: 0.2429 - val_acc: 0.9312\n",
      "Epoch 19/20\n",
      "51094/51094 [==============================] - 29s 568us/step - loss: 0.2053 - acc: 0.9353 - val_loss: 0.2431 - val_acc: 0.9306\n",
      "Epoch 20/20\n",
      "51094/51094 [==============================] - 29s 565us/step - loss: 0.2078 - acc: 0.9366 - val_loss: 0.2443 - val_acc: 0.9322\n"
     ]
    },
    {
     "data": {
      "text/plain": [
       "<keras.callbacks.History at 0x7ff5b9808940>"
      ]
     },
     "execution_count": 42,
     "metadata": {},
     "output_type": "execute_result"
    }
   ],
   "source": [
    "model.fit(x_train,y_train,validation_data=(x_val,y_val),epochs=20,batch_size=32,verbose=1)"
   ]
  },
  {
   "cell_type": "code",
   "execution_count": 43,
   "metadata": {
    "_uuid": "6b92a6b3a7c9fb60c601b231325a6e1409cba2b8",
    "scrolled": true
   },
   "outputs": [
    {
     "name": "stdout",
     "output_type": "stream",
     "text": [
      "6835/6835 [==============================] - 1s 96us/step\n"
     ]
    },
    {
     "data": {
      "text/plain": [
       "[0.24612135037874508, 0.9287490856499243]"
      ]
     },
     "execution_count": 43,
     "metadata": {},
     "output_type": "execute_result"
    }
   ],
   "source": [
    "model.evaluate(x_test,y_test)"
   ]
  },
  {
   "cell_type": "code",
   "execution_count": 44,
   "metadata": {
    "_uuid": "63994773dea433471c94700a6211bce0e3e66b98",
    "scrolled": true
   },
   "outputs": [
    {
     "name": "stdout",
     "output_type": "stream",
     "text": [
      "Train on 51094 samples, validate on 6798 samples\n",
      "Epoch 1/20\n",
      "51094/51094 [==============================] - 29s 565us/step - loss: 0.2070 - acc: 0.9370 - val_loss: 0.2424 - val_acc: 0.9316\n",
      "Epoch 2/20\n",
      "51094/51094 [==============================] - 29s 569us/step - loss: 0.2071 - acc: 0.9359 - val_loss: 0.2429 - val_acc: 0.9313\n",
      "Epoch 3/20\n",
      "51094/51094 [==============================] - 29s 568us/step - loss: 0.2042 - acc: 0.9370 - val_loss: 0.2426 - val_acc: 0.9325\n",
      "Epoch 4/20\n",
      "51094/51094 [==============================] - 29s 568us/step - loss: 0.2078 - acc: 0.9365 - val_loss: 0.2401 - val_acc: 0.9325\n",
      "Epoch 5/20\n",
      "51094/51094 [==============================] - 29s 567us/step - loss: 0.2048 - acc: 0.9368 - val_loss: 0.2422 - val_acc: 0.9323\n",
      "Epoch 6/20\n",
      "51094/51094 [==============================] - 29s 567us/step - loss: 0.2040 - acc: 0.9357 - val_loss: 0.2449 - val_acc: 0.9319\n",
      "Epoch 7/20\n",
      "51094/51094 [==============================] - 29s 568us/step - loss: 0.2038 - acc: 0.9363 - val_loss: 0.2401 - val_acc: 0.9309\n",
      "Epoch 8/20\n",
      "51094/51094 [==============================] - 29s 567us/step - loss: 0.2030 - acc: 0.9369 - val_loss: 0.2423 - val_acc: 0.9328\n",
      "Epoch 9/20\n",
      "51094/51094 [==============================] - 29s 569us/step - loss: 0.2006 - acc: 0.9374 - val_loss: 0.2401 - val_acc: 0.9316\n",
      "Epoch 10/20\n",
      "51094/51094 [==============================] - 29s 566us/step - loss: 0.2035 - acc: 0.9364 - val_loss: 0.2432 - val_acc: 0.9323\n",
      "Epoch 11/20\n",
      "51094/51094 [==============================] - 29s 571us/step - loss: 0.2012 - acc: 0.9373 - val_loss: 0.2434 - val_acc: 0.9335\n",
      "Epoch 12/20\n",
      "51094/51094 [==============================] - 29s 568us/step - loss: 0.1988 - acc: 0.9379 - val_loss: 0.2414 - val_acc: 0.9325\n",
      "Epoch 13/20\n",
      "51094/51094 [==============================] - 29s 566us/step - loss: 0.2008 - acc: 0.9378 - val_loss: 0.2438 - val_acc: 0.9303\n",
      "Epoch 14/20\n",
      "51094/51094 [==============================] - 29s 568us/step - loss: 0.1988 - acc: 0.9385 - val_loss: 0.2389 - val_acc: 0.9332\n",
      "Epoch 15/20\n",
      "51094/51094 [==============================] - 29s 568us/step - loss: 0.2016 - acc: 0.9375 - val_loss: 0.2395 - val_acc: 0.9325\n",
      "Epoch 16/20\n",
      "51094/51094 [==============================] - 29s 564us/step - loss: 0.1995 - acc: 0.9379 - val_loss: 0.2483 - val_acc: 0.9315\n",
      "Epoch 17/20\n",
      "51094/51094 [==============================] - 29s 568us/step - loss: 0.1972 - acc: 0.9392 - val_loss: 0.2429 - val_acc: 0.9322\n",
      "Epoch 18/20\n",
      "51094/51094 [==============================] - 29s 568us/step - loss: 0.1977 - acc: 0.9391 - val_loss: 0.2424 - val_acc: 0.9335\n",
      "Epoch 19/20\n",
      "51094/51094 [==============================] - 29s 568us/step - loss: 0.1972 - acc: 0.9386 - val_loss: 0.2393 - val_acc: 0.9329\n",
      "Epoch 20/20\n",
      "51094/51094 [==============================] - 29s 567us/step - loss: 0.1970 - acc: 0.9388 - val_loss: 0.2422 - val_acc: 0.9328\n"
     ]
    },
    {
     "data": {
      "text/plain": [
       "<keras.callbacks.History at 0x7ff600e0fc88>"
      ]
     },
     "execution_count": 44,
     "metadata": {},
     "output_type": "execute_result"
    }
   ],
   "source": [
    "model.fit(x_train,y_train,validation_data=(x_val,y_val),epochs=20,batch_size=32,verbose=1)"
   ]
  },
  {
   "cell_type": "code",
   "execution_count": null,
   "metadata": {
    "_uuid": "47873294281482f9b84011712c4bab1834d67281"
   },
   "outputs": [
    {
     "name": "stdout",
     "output_type": "stream",
     "text": [
      "1600/6835 [======>.......................] - ETA: 0s"
     ]
    }
   ],
   "source": [
    "model.evaluate(x_test,y_test)"
   ]
  },
  {
   "cell_type": "code",
   "execution_count": null,
   "metadata": {
    "_uuid": "eb6b14e3c14fb6a4a8102a856340256ce183ed87",
    "collapsed": true
   },
   "outputs": [],
   "source": [
    "# fpaths = glob.glob(os.path.join('./data_dir/', 'test/audio/*wav'))\n",
    "# test_data=[]\n",
    "# fnames=[]\n",
    "# for path in fpaths:\n",
    "#     sample_rate, samples = wavfile.read(path)\n",
    "#     samples = pad_audio(samples)\n",
    "#     if len(samples) > 16000:\n",
    "#         n_samples = chop_audio(samples)\n",
    "#     else :\n",
    "#         n_samples = [samples]\n",
    "#     for samples in n_samples:\n",
    "#         samples=np.asarray(samples).astype('float')\n",
    "#         S = librosa.feature.melspectrogram(samples, sr=sample_rate, n_mels=128)\n",
    "#         log_S = librosa.power_to_db(S, ref=np.max)\n",
    "#         mfcc = librosa.feature.mfcc(S=log_S, n_mfcc=13)\n",
    "#         fnames.append(path.split('\\\\')[-1])\n",
    "#         test_data.append(mfcc)"
   ]
  },
  {
   "cell_type": "code",
   "execution_count": null,
   "metadata": {
    "_uuid": "daeb91beb83499bdd4b5d50d18ef6a8822a311b6",
    "collapsed": true
   },
   "outputs": [],
   "source": []
  },
  {
   "cell_type": "code",
   "execution_count": null,
   "metadata": {
    "_uuid": "715f79f308780a5f084c3b9fc507a758728b5f92",
    "collapsed": true
   },
   "outputs": [],
   "source": []
  },
  {
   "cell_type": "code",
   "execution_count": null,
   "metadata": {
    "_uuid": "aa6b6287375949db4ead8853fc7547412abe21eb",
    "collapsed": true
   },
   "outputs": [],
   "source": []
  },
  {
   "cell_type": "code",
   "execution_count": null,
   "metadata": {
    "_uuid": "95016c1391eee7945cdde4a2b635e9250ec4d592",
    "collapsed": true
   },
   "outputs": [],
   "source": []
  },
  {
   "cell_type": "code",
   "execution_count": null,
   "metadata": {
    "_uuid": "fbc57664f2cdab2fa1759a9a9dc4862f872d519c",
    "collapsed": true
   },
   "outputs": [],
   "source": []
  },
  {
   "cell_type": "code",
   "execution_count": null,
   "metadata": {
    "_uuid": "68cfb1d99c98fecdca986b176d5170265c4bf1e6",
    "collapsed": true
   },
   "outputs": [],
   "source": []
  },
  {
   "cell_type": "code",
   "execution_count": null,
   "metadata": {
    "_uuid": "ff609fca46e1f4804392285e94dd3df97b0b67cf",
    "collapsed": true
   },
   "outputs": [],
   "source": []
  },
  {
   "cell_type": "code",
   "execution_count": null,
   "metadata": {
    "_uuid": "8ff78ca6a5bf38e08a3c47127d5913f988b0cf1e",
    "collapsed": true
   },
   "outputs": [],
   "source": []
  },
  {
   "cell_type": "code",
   "execution_count": null,
   "metadata": {
    "_uuid": "c3595856ad90ca01e78666fd6d80bf0c01257e45",
    "collapsed": true
   },
   "outputs": [],
   "source": []
  },
  {
   "cell_type": "code",
   "execution_count": null,
   "metadata": {
    "_uuid": "a088f56ad46a5153aa270790a1877123dcedda81",
    "collapsed": true
   },
   "outputs": [],
   "source": []
  },
  {
   "cell_type": "code",
   "execution_count": null,
   "metadata": {
    "_uuid": "ce8d3873ca2e4447be847c02abb8bfc404838bc6",
    "collapsed": true
   },
   "outputs": [],
   "source": []
  },
  {
   "cell_type": "code",
   "execution_count": null,
   "metadata": {
    "_uuid": "17abef3f650b3dd6b88260b9b2eaff26b640cc17",
    "collapsed": true
   },
   "outputs": [],
   "source": []
  },
  {
   "cell_type": "code",
   "execution_count": null,
   "metadata": {
    "_uuid": "63a6222510423a05f88fe871ffc82f7f5529dbde",
    "collapsed": true
   },
   "outputs": [],
   "source": []
  },
  {
   "cell_type": "code",
   "execution_count": null,
   "metadata": {
    "_uuid": "50c10dcf112881244180753f6b0be6b2079d3c45",
    "collapsed": true
   },
   "outputs": [],
   "source": []
  },
  {
   "cell_type": "code",
   "execution_count": null,
   "metadata": {
    "_uuid": "ce73d595ea4aec498eacfb4b05e8a362a6fb7176",
    "collapsed": true
   },
   "outputs": [],
   "source": []
  },
  {
   "cell_type": "code",
   "execution_count": null,
   "metadata": {
    "_uuid": "4fdef5507f50d3f20fecb581638e9d857e082588",
    "collapsed": true
   },
   "outputs": [],
   "source": []
  },
  {
   "cell_type": "code",
   "execution_count": null,
   "metadata": {
    "_uuid": "047e5e5f16a34590caa0c8c8b0f599419ee24e8f",
    "collapsed": true
   },
   "outputs": [],
   "source": []
  },
  {
   "cell_type": "code",
   "execution_count": null,
   "metadata": {
    "_uuid": "395546b8466699ea3fc459b0af9f10a4dabdc000",
    "collapsed": true
   },
   "outputs": [],
   "source": []
  },
  {
   "cell_type": "code",
   "execution_count": null,
   "metadata": {
    "_uuid": "29bd5fbdb1254be9e6e41707110851e486fe447f",
    "collapsed": true
   },
   "outputs": [],
   "source": []
  },
  {
   "cell_type": "code",
   "execution_count": null,
   "metadata": {
    "_uuid": "76d7d1732c77910e6af8b822ffb883228e8c19e3",
    "collapsed": true
   },
   "outputs": [],
   "source": []
  },
  {
   "cell_type": "code",
   "execution_count": null,
   "metadata": {
    "_uuid": "a877f0b8e118cf992f595708cebee08e28fba07e",
    "collapsed": true
   },
   "outputs": [],
   "source": []
  },
  {
   "cell_type": "code",
   "execution_count": null,
   "metadata": {
    "_uuid": "0ff515f680fcc6b6c36408ca68f6166edaa4fd3b",
    "collapsed": true
   },
   "outputs": [],
   "source": []
  }
 ],
 "metadata": {
  "kernelspec": {
   "display_name": "Python 3",
   "language": "python",
   "name": "python3"
  },
  "language_info": {
   "codemirror_mode": {
    "name": "ipython",
    "version": 3
   },
   "file_extension": ".py",
   "mimetype": "text/x-python",
   "name": "python",
   "nbconvert_exporter": "python",
   "pygments_lexer": "ipython3",
   "version": "3.5.2"
  }
 },
 "nbformat": 4,
 "nbformat_minor": 1
}
